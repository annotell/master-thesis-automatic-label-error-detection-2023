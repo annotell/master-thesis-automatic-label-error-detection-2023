{
 "cells": [
  {
   "cell_type": "code",
   "execution_count": 1,
   "id": "433a5bc5",
   "metadata": {},
   "outputs": [
    {
     "name": "stdout",
     "output_type": "stream",
     "text": [
      "Using GPU\n",
      "cuda:0\n",
      "len of ktest_imgpaths: 12885\n"
     ]
    },
    {
     "name": "stderr",
     "output_type": "stream",
     "text": [
      "/home/belay/miniconda3/envs/py38/lib/python3.8/site-packages/torch/nn/functional.py:4277: UserWarning: Default grid_sample and affine_grid behavior has changed to align_corners=False since 1.3.0. Please specify align_corners=True if the old behavior is desired. See the documentation of grid_sample for details.\n",
      "  warnings.warn(\n",
      "/home/belay/miniconda3/envs/py38/lib/python3.8/site-packages/torch/nn/functional.py:4215: UserWarning: Default grid_sample and affine_grid behavior has changed to align_corners=False since 1.3.0. Please specify align_corners=True if the old behavior is desired. See the documentation of grid_sample for details.\n",
      "  warnings.warn(\n",
      "/home/belay/miniconda3/envs/py38/lib/python3.8/site-packages/torch/nn/_reduction.py:42: UserWarning: size_average and reduce args will be deprecated, please use reduction='none' instead.\n",
      "  warnings.warn(warning.format(ret))\n"
     ]
    },
    {
     "name": "stdout",
     "output_type": "stream",
     "text": [
      "tuple_with_path=19, ../datasets/gtsrb-german-traffic-sign/4fold/0/Test/26/00026_00005_00023.png\n",
      "len of ktest_imgpaths: 12885\n",
      "len of ktest_imgpaths: 12885\n",
      "len of ktest_imgpaths: 12854\n",
      "tuple_with_path=10, ../datasets/gtsrb-german-traffic-sign/4fold/3/Test/18/00018_00031_00020.png\n",
      "0-fold: 12885\n",
      "1-fold: 12885\n",
      "2-fold: 12885\n",
      "3-fold: 12854\n",
      "imgpaths_set: 51509, total_num: 51509\n",
      "total_outputs: (51839, 43), total_labels_gt: 51839, total_labels_pred: 51839, total_losses: (51839,), total_paths: 51839\n",
      "len of total_pred_prob=51839\n"
     ]
    }
   ],
   "source": [
    "%run eval_prob.py"
   ]
  },
  {
   "cell_type": "code",
   "execution_count": 2,
   "id": "66481df3",
   "metadata": {},
   "outputs": [
    {
     "name": "stdout",
     "output_type": "stream",
     "text": [
      "['prob_4fold.pkl', 'model3_20.pth', 'prob_4fold_epo20.pkl', 'model3_5.pth', 'model1_10.pth', 'run_CL.ipynb', 'arr_4fold_epo20.pkl', 'eval_prob.py', 'model0_5.pth', 'gen_kfold.py', 'model3_10.pth', 'model2_5.pth', 'prob_4fold_epo5.pkl', 'model1_20.pth', 'model.py', 'train.py', 'arr_4fold_epo5.pkl', 'data.py', 'run_py.ipynb', 'model2_10.pth', 'model0_10.pth', 'model2_20.pth', 'model1_5.pth', '__pycache__', 'classes_name.py', '.ipynb_checkpoints', 'model0_20.pth']\n"
     ]
    }
   ],
   "source": [
    "import os\n",
    "cwd = os.getcwd()\n",
    "print(os.listdir(cwd))"
   ]
  },
  {
   "cell_type": "code",
   "execution_count": null,
   "id": "376e4034",
   "metadata": {},
   "outputs": [],
   "source": []
  }
 ],
 "metadata": {
  "kernelspec": {
   "display_name": "Python 3 (ipykernel)",
   "language": "python",
   "name": "python3"
  },
  "language_info": {
   "codemirror_mode": {
    "name": "ipython",
    "version": 3
   },
   "file_extension": ".py",
   "mimetype": "text/x-python",
   "name": "python",
   "nbconvert_exporter": "python",
   "pygments_lexer": "ipython3",
   "version": "3.8.10"
  },
  "latex_envs": {
   "LaTeX_envs_menu_present": true,
   "autoclose": false,
   "autocomplete": true,
   "bibliofile": "biblio.bib",
   "cite_by": "apalike",
   "current_citInitial": 1,
   "eqLabelWithNumbers": true,
   "eqNumInitial": 1,
   "hotkeys": {
    "equation": "Ctrl-E",
    "itemize": "Ctrl-I"
   },
   "labels_anchors": false,
   "latex_user_defs": false,
   "report_style_numbering": false,
   "user_envs_cfg": false
  }
 },
 "nbformat": 4,
 "nbformat_minor": 5
}
